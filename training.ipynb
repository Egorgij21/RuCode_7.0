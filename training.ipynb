{
 "cells": [
  {
   "cell_type": "code",
   "execution_count": null,
   "metadata": {},
   "outputs": [],
   "source": [
    "# !pip install navec\n",
    "# !pip install slovnet"
   ]
  },
  {
   "cell_type": "code",
   "execution_count": 4,
   "metadata": {},
   "outputs": [],
   "source": [
    "from slovnet.model.emb import NavecEmbedding\n",
    "import torch\n",
    "import navec"
   ]
  },
  {
   "cell_type": "code",
   "execution_count": 6,
   "metadata": {},
   "outputs": [],
   "source": [
    "path = 'navec_hudlit_v1_12B_500K_300d_100q.tar'\n",
    "navec = navec.Navec.load(path)"
   ]
  },
  {
   "cell_type": "code",
   "execution_count": 11,
   "metadata": {},
   "outputs": [],
   "source": [
    "from utils import read_file\n",
    "\n",
    "test = read_file(\"private_test_stresses.txt\")"
   ]
  },
  {
   "cell_type": "code",
   "execution_count": 55,
   "metadata": {},
   "outputs": [],
   "source": [
    "from torch.utils.data import Dataset, DataLoader\n",
    "\n",
    "class TestDataset(Dataset):\n",
    "    def __init__(self, navec, data):\n",
    "        self.data = data\n",
    "        self.navec = navec\n",
    "        self.vocab = self.navec.vocab\n",
    "\n",
    "    def __len__(self):\n",
    "        return len(self.data)\n",
    "\n",
    "    def __getitem__(self, index):\n",
    "        word = self.data[index]\n",
    "        word_idx = self.vocab.get(word, self.navec.vocab.unk_id)  # Out of vocabulary words are assigned a unique index\n",
    "        word_tensor = torch.tensor(word_idx, dtype=torch.long)\n",
    "        return word_tensor, word\n",
    "\n",
    "\n",
    "class TrainDataset(Dataset):\n",
    "    def __init__(self, navec, data, labels):\n",
    "        self.data = data\n",
    "        self.labels = labels\n",
    "        self.navec = navec\n",
    "        self.vocab = self.navec.vocab\n",
    "\n",
    "    def __len__(self):\n",
    "        return len(self.data)\n",
    "\n",
    "    def __getitem__(self, index):\n",
    "        word = self.data[index]\n",
    "        word_idx = self.vocab.get(word, self.navec.vocab.unk_id)  # Out of vocabulary words are assigned a unique index\n",
    "        word_tensor = torch.tensor(word_idx, dtype=torch.long)\n",
    "        \n",
    "        return word_tensor, torch.tensor([self.labels[index]], dtype=torch.long)"
   ]
  },
  {
   "cell_type": "code",
   "execution_count": 47,
   "metadata": {},
   "outputs": [],
   "source": [
    "from torch import nn\n",
    "\n",
    "class Model(nn.Module):\n",
    "    def __init__(self,\n",
    "                 navec,\n",
    "                 output_dim=37) -> None:\n",
    "        super().__init__()\n",
    "        self.navec = navec\n",
    "        self.output_dim = output_dim\n",
    "\n",
    "        self.model = nn.Sequential(\n",
    "            NavecEmbedding(navec),\n",
    "            nn.Linear(300, 100),\n",
    "            nn.ReLU(),\n",
    "            nn.Linear(100, 50),\n",
    "            nn.ReLU()\n",
    "        )\n",
    "\n",
    "        self.mu = nn.Linear(50, output_dim)\n",
    "        self.log_std = nn.Linear(50, output_dim)\n",
    "    \n",
    "    def forward(self, x):\n",
    "        hidden = self.model(x)\n",
    "\n",
    "        mean, log_std = self.mu(hidden), self.log_std(hidden)\n",
    "        log_std = log_std.clamp(-20, 2)\n",
    "        dist = torch.distributions.Normal(mean, log_std.exp())\n",
    "\n",
    "        out = dist.rsample()\n",
    "        return out"
   ]
  },
  {
   "cell_type": "code",
   "execution_count": 48,
   "metadata": {},
   "outputs": [],
   "source": [
    "model = Model(navec)"
   ]
  },
  {
   "cell_type": "code",
   "execution_count": 56,
   "metadata": {},
   "outputs": [],
   "source": [
    "train = read_file(\"stresses/train_stresses_labels.txt\")\n",
    "\n",
    "words = [x.replace(\"^\", \"\") for x in train]\n",
    "labels = [x.index(\"^\") - 1 for x in train]\n",
    "\n",
    "train_dataset = TrainDataset(navec, words, labels)\n",
    "\n",
    "train_loader = DataLoader(train_dataset, batch_size=2048)"
   ]
  },
  {
   "cell_type": "code",
   "execution_count": 79,
   "metadata": {},
   "outputs": [],
   "source": [
    "model = Model(navec)\n",
    "loss = nn.CrossEntropyLoss()\n",
    "optim = torch.optim.AdamW(model.parameters(), lr=3e-4)"
   ]
  },
  {
   "cell_type": "code",
   "execution_count": null,
   "metadata": {},
   "outputs": [],
   "source": [
    "num_epochs = 200\n",
    "\n",
    "for epoch in range(num_epochs):\n",
    "    total_loss = 0\n",
    "\n",
    "    for word_tensor, stress in train_loader:\n",
    "        optim.zero_grad()\n",
    "        \n",
    "        output = model(word_tensor)\n",
    "        criterion = loss(output,\n",
    "                           nn.functional.one_hot(stress, num_classes=37).squeeze(1).float())\n",
    "\n",
    "        total_loss += criterion.item()\n",
    "        \n",
    "        criterion.backward()\n",
    "        optim.step()\n",
    "    \n",
    "    # Print epoch loss\n",
    "    print('Epoch:', epoch, ' Loss:', total_loss)\n",
    "\n"
   ]
  },
  {
   "cell_type": "code",
   "execution_count": 42,
   "metadata": {},
   "outputs": [],
   "source": [
    "def make_stress(word, index):\n",
    "    new_word = \"\"\n",
    "\n",
    "    for i in range(len(word)):\n",
    "        new_word += word[i]\n",
    "        if i == index:\n",
    "            new_word += \"^\"\n",
    "    \n",
    "    return new_word"
   ]
  },
  {
   "cell_type": "code",
   "execution_count": 82,
   "metadata": {},
   "outputs": [
    {
     "name": "stderr",
     "output_type": "stream",
     "text": [
      "100%|██████████| 294252/294252 [00:32<00:00, 8926.64it/s]\n"
     ]
    }
   ],
   "source": [
    "from tqdm import tqdm\n",
    "\n",
    "model.eval()\n",
    "vowels = \"аяуюоеёэиы\"\n",
    "output = []\n",
    "\n",
    "test_dataset = TestDataset(navec, test)\n",
    "\n",
    "for i in tqdm(range(len(test_dataset))):\n",
    "    inp_tensor, word = test_dataset[i]\n",
    "    indexes = [i for i in range(len(word)) if word[i] in vowels]\n",
    "\n",
    "    pred = model(inp_tensor)[indexes]\n",
    "    stress = pred.argmax().item()\n",
    "\n",
    "    output.append(make_stress(word, stress))\n"
   ]
  },
  {
   "cell_type": "code",
   "execution_count": 83,
   "metadata": {},
   "outputs": [],
   "source": [
    "with open('try2.txt', 'w') as file:\n",
    "    for item in output:\n",
    "        file.write(item + '\\n')"
   ]
  },
  {
   "cell_type": "code",
   "execution_count": 84,
   "metadata": {},
   "outputs": [],
   "source": [
    "torch.save(model.state_dict(), \"model.pt\")"
   ]
  },
  {
   "cell_type": "code",
   "execution_count": null,
   "metadata": {},
   "outputs": [],
   "source": []
  }
 ],
 "metadata": {
  "kernelspec": {
   "display_name": "base",
   "language": "python",
   "name": "python3"
  },
  "language_info": {
   "codemirror_mode": {
    "name": "ipython",
    "version": 3
   },
   "file_extension": ".py",
   "mimetype": "text/x-python",
   "name": "python",
   "nbconvert_exporter": "python",
   "pygments_lexer": "ipython3",
   "version": "3.9.15"
  },
  "orig_nbformat": 4
 },
 "nbformat": 4,
 "nbformat_minor": 2
}
